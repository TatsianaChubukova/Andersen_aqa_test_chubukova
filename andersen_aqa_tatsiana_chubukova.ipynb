{
 "cells": [
  {
   "cell_type": "markdown",
   "metadata": {},
   "source": [
    "**AQA Engineer Trainee**\n",
    "\n",
    "**Татьяна Чубукова**"
   ]
  },
  {
   "cell_type": "markdown",
   "metadata": {},
   "source": [
    "**Задание 1** \n",
    "\n",
    "**Составить алгоритм: если введенное число больше 7, то вывести “Привет”**"
   ]
  },
  {
   "cell_type": "code",
   "execution_count": 1,
   "metadata": {},
   "outputs": [
    {
     "name": "stdout",
     "output_type": "stream",
     "text": [
      "Привет\n"
     ]
    }
   ],
   "source": [
    "def first(x):\n",
    "    if (type(x) == int or type(x) == float) and (x > 7):\n",
    "        print(\"Привет\")\n",
    "\n",
    "for i in [-1,7,8,True,'A']:\n",
    "    first(i)"
   ]
  },
  {
   "cell_type": "markdown",
   "metadata": {},
   "source": [
    "**Задание 2** \n",
    "\n",
    "**Составить алгоритм: если введенное имя совпадает с Вячеслав, то вывести “Привет, Вячеслав”, если нет, то вывести \"Нет такого имени\"**"
   ]
  },
  {
   "cell_type": "code",
   "execution_count": 2,
   "metadata": {},
   "outputs": [
    {
     "name": "stdout",
     "output_type": "stream",
     "text": [
      "Нет такого имени\n",
      "Нет такого имени\n",
      "Нет такого имени\n",
      "Нет такого имени\n",
      "Нет такого имени\n",
      "Привет, Вячеслав\n",
      "Нет такого имени\n",
      "Привет, Вячеслав\n"
     ]
    }
   ],
   "source": [
    "def second(x):\n",
    "    result = \"Нет такого имени\"\n",
    "    if str(x)=='Вячеслав':\n",
    "        result = \"Привет, Вячеслав\"\n",
    "    print(result)\n",
    "\n",
    "for i in [-1,7,8,True,'A','Вячеслав',['В','я','ч','е','с','л','а','в'], u'Вячеслав']:\n",
    "    second(i)"
   ]
  },
  {
   "cell_type": "markdown",
   "metadata": {},
   "source": [
    "**Задание 3**\n",
    "\n",
    "**Составить алгоритм: на входе есть числовой массив, необходимо вывести элементы массива кратные 3**"
   ]
  },
  {
   "cell_type": "code",
   "execution_count": 3,
   "metadata": {},
   "outputs": [
    {
     "name": "stdout",
     "output_type": "stream",
     "text": [
      "[-3, 3]\n",
      "[0]\n",
      "[3, 6, 9]\n"
     ]
    }
   ],
   "source": [
    "def third(x):\n",
    "    print([i for i in list(x) if (type(i) == int or type(i) == float) and (i%3==0)])\n",
    "\n",
    "for i in [[-3,'A',3], \n",
    "          ['B',True,0], \n",
    "          [3,6,9]]:\n",
    "    third(i)"
   ]
  },
  {
   "cell_type": "markdown",
   "metadata": {},
   "source": [
    "**Задание 4**\n",
    "\n",
    "**Дана скобочная последовательность:**\n",
    "\n",
    "[       **(**   (())   ()     (())       **]**]\n",
    "- Можно ли считать эту последовательность правильной?\n",
    "- Если ответ на предыдущий вопрос “нет” - то что необходимо в ней изменить, чтоб она стала правильной?\n"
   ]
  },
  {
   "cell_type": "markdown",
   "metadata": {},
   "source": [
    "**Вывод:**\n",
    "- не хватает открывающей квадратной скобки\n",
    "- не хватает закрывающей круглой скобки\n",
    "- возможно, неправильно записан \"массив массивов\", тогда надо заменить открывающую круглую скобку на открывающую квадратную"
   ]
  },
  {
   "cell_type": "code",
   "execution_count": null,
   "metadata": {},
   "outputs": [],
   "source": []
  }
 ],
 "metadata": {
  "kernelspec": {
   "display_name": "Python 3",
   "language": "python",
   "name": "python3"
  },
  "language_info": {
   "codemirror_mode": {
    "name": "ipython",
    "version": 3
   },
   "file_extension": ".py",
   "mimetype": "text/x-python",
   "name": "python",
   "nbconvert_exporter": "python",
   "pygments_lexer": "ipython3",
   "version": "3.7.6"
  }
 },
 "nbformat": 4,
 "nbformat_minor": 4
}
